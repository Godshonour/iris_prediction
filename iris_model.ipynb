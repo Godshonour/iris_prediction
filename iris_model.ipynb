{
 "cells": [
  {
   "cell_type": "code",
   "execution_count": null,
   "id": "01107aaf",
   "metadata": {},
   "outputs": [],
   "source": [
    "import pandas as pd\n",
    "import numpy as np\n",
    "import matplotlib.pyplot as plt\n",
    "import seaborn as sns\n",
    "from sklearn import datasets"
   ]
  },
  {
   "cell_type": "code",
   "execution_count": null,
   "id": "62e8ec28",
   "metadata": {},
   "outputs": [],
   "source": [
    "iris_datasets = datasets.load_iris()"
   ]
  },
  {
   "cell_type": "code",
   "execution_count": null,
   "id": "c6712589",
   "metadata": {},
   "outputs": [],
   "source": [
    "x = iris_datasets.data"
   ]
  },
  {
   "cell_type": "code",
   "execution_count": null,
   "id": "4cfdd2d2",
   "metadata": {},
   "outputs": [],
   "source": [
    "y = iris_datasets.target"
   ]
  },
  {
   "cell_type": "code",
   "execution_count": null,
   "id": "f1022d8f",
   "metadata": {},
   "outputs": [],
   "source": [
    "feature_names = iris_datasets.feature_names\n",
    "label_names = iris_datasets.target_names"
   ]
  },
  {
   "cell_type": "code",
   "execution_count": null,
   "id": "8e884b37",
   "metadata": {},
   "outputs": [],
   "source": [
    "y_list = list()\n",
    "label_dict = {i:j for i,j in enumerate(label_names)}\n",
    "for i in range(len(y)):\n",
    "    y_list.append(label_dict[y[i]])"
   ]
  },
  {
   "cell_type": "code",
   "execution_count": null,
   "id": "735440b1",
   "metadata": {},
   "outputs": [],
   "source": [
    "x_df = pd.DataFrame(x,columns=feature_names)\n",
    "y_df = pd.DataFrame(y_list,columns=['label'])\n",
    "full_df = pd.concat([x_df,y_df],axis=1)"
   ]
  },
  {
   "cell_type": "code",
   "execution_count": null,
   "id": "fb52d83b",
   "metadata": {},
   "outputs": [],
   "source": [
    "full_df.shape"
   ]
  },
  {
   "cell_type": "code",
   "execution_count": null,
   "id": "14d0dc5e",
   "metadata": {},
   "outputs": [],
   "source": [
    "full_df.head()"
   ]
  },
  {
   "cell_type": "code",
   "execution_count": null,
   "id": "c7b1c597",
   "metadata": {},
   "outputs": [],
   "source": [
    "full_df.isna().sum()"
   ]
  },
  {
   "cell_type": "code",
   "execution_count": null,
   "id": "90f4dc4a",
   "metadata": {},
   "outputs": [],
   "source": [
    "full_df.describe().transpose()"
   ]
  },
  {
   "cell_type": "code",
   "execution_count": null,
   "id": "62bdc5e3",
   "metadata": {},
   "outputs": [],
   "source": [
    "full_df.duplicated().sum()"
   ]
  },
  {
   "cell_type": "markdown",
   "id": "adb1a12a",
   "metadata": {},
   "source": [
    "# Visualization"
   ]
  },
  {
   "cell_type": "code",
   "execution_count": null,
   "id": "7483a6be",
   "metadata": {},
   "outputs": [],
   "source": [
    "sns.countplot(y);"
   ]
  },
  {
   "cell_type": "code",
   "execution_count": null,
   "id": "0c52e64c",
   "metadata": {},
   "outputs": [],
   "source": [
    "for i in range(len(feature_names)):\n",
    "    plt.figure(figsize=(12,10));\n",
    "    sns.distplot(full_df[feature_names[i]]);\n",
    "    plt.title(f'Distribution plot for {feature_names[i]}');"
   ]
  },
  {
   "cell_type": "code",
   "execution_count": null,
   "id": "cbe2b64f",
   "metadata": {},
   "outputs": [],
   "source": [
    "full_df.skew()"
   ]
  },
  {
   "cell_type": "code",
   "execution_count": null,
   "id": "533ce0ed",
   "metadata": {},
   "outputs": [],
   "source": [
    "def scatter_plot(feature_1,feature_2,label=None):\n",
    "    if label == None:\n",
    "        plt.subplot(231);\n",
    "        plt.title('scatter plot');\n",
    "        sns.scatterplot(x=full_df[feature_1],y=full_df[feature_2]);\n",
    "        plt.subplot(232);\n",
    "        plt.title('bar plot');\n",
    "        sns.barplot(y=full_df[feature_1],x=full_df['label']);\n",
    "        plt.subplot(233);\n",
    "        sns.barplot(x=full_df['label'],y=full_df[feature_2]);\n",
    "        plt.title('barplot');\n",
    "    else:\n",
    "        plt.subplot(231);\n",
    "        plt.title('scatter plot');\n",
    "        sns.scatterplot(x=full_df[feature_1],y=full_df[feature_2],hue=full_df[label]);\n",
    "        plt.subplot(232);\n",
    "        plt.title('bar plot');\n",
    "        sns.barplot(x=full_df['label'],y=full_df[feature_1]);\n",
    "        plt.subplot(233);\n",
    "        plt.title('bar plot');\n",
    "        sns.barplot(x=full_df['label'],y=full_df[feature_2]);"
   ]
  },
  {
   "cell_type": "code",
   "execution_count": null,
   "id": "e51f60ee",
   "metadata": {},
   "outputs": [],
   "source": [
    "for i in range(1,4):\n",
    "    plt.figure(figsize=(9,5));\n",
    "    scatter_plot(feature_names[0],feature_names[i],label='label')"
   ]
  },
  {
   "cell_type": "code",
   "execution_count": null,
   "id": "60685198",
   "metadata": {},
   "outputs": [],
   "source": [
    "for i in range(2,4):\n",
    "    plt.figure(figsize=(9,5));\n",
    "    scatter_plot(feature_names[1],feature_names[i],label='label')"
   ]
  },
  {
   "cell_type": "code",
   "execution_count": null,
   "id": "e738b9f9",
   "metadata": {},
   "outputs": [],
   "source": [
    "for i in range(3,4):\n",
    "    plt.figure(figsize=(9,5));\n",
    "    scatter_plot(feature_names[2],feature_names[i],label='label')"
   ]
  },
  {
   "cell_type": "code",
   "execution_count": null,
   "id": "33d14328",
   "metadata": {},
   "outputs": [],
   "source": [
    "def groupby(features,label):\n",
    "    print('------------------------mean------------------------------')\n",
    "    print(full_df.groupby('label')[feature_names].mean())\n",
    "    print()\n",
    "    print('-----------------------------median------------------------')\n",
    "    print(full_df.groupby('label')[feature_names].median())\n",
    "    print()\n",
    "    print('-------------------------------max---------------------------')\n",
    "    print(full_df.groupby('label')[feature_names].max())\n",
    "    print()\n",
    "    print('-------------------------------min---------------------------')\n",
    "    print(full_df.groupby('label')[feature_names].min())\n",
    "    print()\n",
    "    print('-----------------------------cummulative sum----------------------')\n",
    "    print(full_df.groupby('label')[feature_names].cumsum())\n",
    "    print()"
   ]
  },
  {
   "cell_type": "code",
   "execution_count": null,
   "id": "afc9cc13",
   "metadata": {},
   "outputs": [],
   "source": [
    "groupby(feature_names,'label')"
   ]
  },
  {
   "cell_type": "code",
   "execution_count": null,
   "id": "20d59f95",
   "metadata": {},
   "outputs": [],
   "source": [
    "for i in range(len(feature_names)):\n",
    "    plt.figure(figsize=(9,5))\n",
    "    sns.boxplot(full_df[feature_names[i]])"
   ]
  },
  {
   "cell_type": "markdown",
   "id": "bad53086",
   "metadata": {},
   "source": [
    "# Preprocessing"
   ]
  },
  {
   "cell_type": "code",
   "execution_count": null,
   "id": "37cc7fa7",
   "metadata": {},
   "outputs": [],
   "source": [
    "from sklearn.model_selection import train_test_split\n",
    "from sklearn.preprocessing import StandardScaler\n",
    "from sklearn.preprocessing import LabelEncoder"
   ]
  },
  {
   "cell_type": "code",
   "execution_count": null,
   "id": "3f52480b",
   "metadata": {},
   "outputs": [],
   "source": [
    "full_df.drop_duplicates(inplace=True)\n",
    "X = full_df[feature_names]\n",
    "y = full_df['label']\n",
    "X_train,X_test,y_train,y_test = train_test_split(X,y,test_size=.30,random_state=0)"
   ]
  },
  {
   "cell_type": "code",
   "execution_count": null,
   "id": "2ceca554",
   "metadata": {},
   "outputs": [],
   "source": [
    "print(f'X_train shape = {X_train.shape}')\n",
    "print(f'X_test shape = {X_test.shape}')\n",
    "print(f'y_train shape = {y_train.shape}')\n",
    "print(f'y_test shape = {y_test.shape}')"
   ]
  },
  {
   "cell_type": "code",
   "execution_count": null,
   "id": "f81e6f76",
   "metadata": {},
   "outputs": [],
   "source": [
    "def outlier(data,feature_name):\n",
    "    percentile_25,percentile_75 = np.percentile(data[feature_name],25),np.percentile(data[feature_name],75)\n",
    "    IQR = percentile_75 - percentile_25\n",
    "    cut_off = IQR * 1.5\n",
    "    lower,upper= percentile_25-cut_off,percentile_75+cut_off\n",
    "    outliers = [x for x in np.array(data[feature_name]) if x<lower or x>upper]\n",
    "    if len(outliers) >= 1:\n",
    "        for i in (outliers):\n",
    "            if i <= lower:\n",
    "                data[feature_name] = np.where(data[feature_name]==i,lower,data[feature_name])\n",
    "                \n",
    "            if i >= upper:\n",
    "                data[feature_name] = np.where(data[feature_name]==i,upper,data[feature_name])\n",
    "        print(f'{len(outliers)} outliers was observed in {feature_name} column and was replaced')\n",
    "    else:\n",
    "        print('no outlier was observed')"
   ]
  },
  {
   "cell_type": "code",
   "execution_count": null,
   "id": "86b87cf8",
   "metadata": {},
   "outputs": [],
   "source": [
    "for i in feature_names:\n",
    "    outlier(X_train,i)"
   ]
  },
  {
   "cell_type": "code",
   "execution_count": null,
   "id": "c9fc457a",
   "metadata": {},
   "outputs": [],
   "source": [
    "label_encoder = LabelEncoder()"
   ]
  },
  {
   "cell_type": "code",
   "execution_count": null,
   "id": "a1ba8c21",
   "metadata": {},
   "outputs": [],
   "source": [
    "y_train = label_encoder.fit_transform(y_train)"
   ]
  },
  {
   "cell_type": "code",
   "execution_count": null,
   "id": "4f1d9404",
   "metadata": {},
   "outputs": [],
   "source": [
    "scaler = StandardScaler()\n",
    "X_scaled = scaler.fit_transform(X_train)"
   ]
  },
  {
   "cell_type": "code",
   "execution_count": null,
   "id": "73637f85",
   "metadata": {},
   "outputs": [],
   "source": [
    "from sklearn.neighbors import KNeighborsClassifier"
   ]
  },
  {
   "cell_type": "code",
   "execution_count": null,
   "id": "0b42e0c6",
   "metadata": {},
   "outputs": [],
   "source": [
    "knn_clf = KNeighborsClassifier()"
   ]
  },
  {
   "cell_type": "code",
   "execution_count": null,
   "id": "3ff781cb",
   "metadata": {},
   "outputs": [],
   "source": [
    "knn_clf.fit(X_scaled,y_train)"
   ]
  },
  {
   "cell_type": "code",
   "execution_count": null,
   "id": "3e91aed5",
   "metadata": {},
   "outputs": [],
   "source": [
    "from sklearn.metrics import confusion_matrix"
   ]
  },
  {
   "cell_type": "code",
   "execution_count": null,
   "id": "6b61cd0c",
   "metadata": {},
   "outputs": [],
   "source": [
    "confusion_matrix(knn_clf.predict(X_scaled),y_train)"
   ]
  },
  {
   "cell_type": "code",
   "execution_count": null,
   "id": "876c456a",
   "metadata": {},
   "outputs": [],
   "source": [
    "from sklearn.metrics import accuracy_score"
   ]
  },
  {
   "cell_type": "code",
   "execution_count": null,
   "id": "7284bb2e",
   "metadata": {},
   "outputs": [],
   "source": [
    "prediction = knn_clf.predict(X_scaled)"
   ]
  },
  {
   "cell_type": "code",
   "execution_count": null,
   "id": "6de93d30",
   "metadata": {},
   "outputs": [],
   "source": [
    "accuracy_score(prediction,y_train)"
   ]
  },
  {
   "cell_type": "code",
   "execution_count": null,
   "id": "0c4ffb4d",
   "metadata": {},
   "outputs": [],
   "source": [
    "from sklearn.model_selection import cross_val_score"
   ]
  },
  {
   "cell_type": "code",
   "execution_count": null,
   "id": "5fd67820",
   "metadata": {},
   "outputs": [],
   "source": [
    "scores = cross_val_score(knn_clf,X_scaled,y_train,scoring='accuracy',cv=10)"
   ]
  },
  {
   "cell_type": "code",
   "execution_count": null,
   "id": "ba04e0a0",
   "metadata": {},
   "outputs": [],
   "source": [
    "scores"
   ]
  },
  {
   "cell_type": "code",
   "execution_count": null,
   "id": "25324f5c",
   "metadata": {},
   "outputs": [],
   "source": [
    "from sklearn.ensemble import RandomForestClassifier"
   ]
  },
  {
   "cell_type": "code",
   "execution_count": null,
   "id": "c31c0a24",
   "metadata": {},
   "outputs": [],
   "source": [
    "rand_clf = RandomForestClassifier()"
   ]
  },
  {
   "cell_type": "code",
   "execution_count": null,
   "id": "47523833",
   "metadata": {},
   "outputs": [],
   "source": [
    "rand_scores = cross_val_score(rand_clf,X_scaled,y_train,scoring='accuracy',cv=10)"
   ]
  },
  {
   "cell_type": "code",
   "execution_count": null,
   "id": "31a62933",
   "metadata": {},
   "outputs": [],
   "source": [
    "rand_scores"
   ]
  },
  {
   "cell_type": "code",
   "execution_count": null,
   "id": "ce7b9641",
   "metadata": {},
   "outputs": [],
   "source": [
    "from sklearn.metrics import classification_report"
   ]
  },
  {
   "cell_type": "code",
   "execution_count": null,
   "id": "784fdac9",
   "metadata": {},
   "outputs": [],
   "source": [
    "print(classification_report(prediction,y_train))"
   ]
  },
  {
   "cell_type": "code",
   "execution_count": null,
   "id": "ff285a39",
   "metadata": {},
   "outputs": [],
   "source": [
    "rand_clf.fit(X_scaled,y_train)"
   ]
  },
  {
   "cell_type": "code",
   "execution_count": null,
   "id": "a22747fc",
   "metadata": {},
   "outputs": [],
   "source": [
    "rand_prediction = rand_clf.predict(X_scaled)"
   ]
  },
  {
   "cell_type": "code",
   "execution_count": null,
   "id": "b1862f35",
   "metadata": {},
   "outputs": [],
   "source": [
    "print(classification_report(rand_prediction,y_train))"
   ]
  },
  {
   "cell_type": "code",
   "execution_count": null,
   "id": "2ffdbbfc",
   "metadata": {},
   "outputs": [],
   "source": [
    "rand_scores = cross_val_score(rand_clf,X_scaled,y_train,scoring='accuracy',cv=10)"
   ]
  },
  {
   "cell_type": "code",
   "execution_count": null,
   "id": "155065cf",
   "metadata": {},
   "outputs": [],
   "source": [
    "rand_scores"
   ]
  },
  {
   "cell_type": "code",
   "execution_count": null,
   "id": "38c367e2",
   "metadata": {},
   "outputs": [],
   "source": [
    "from sklearn.tree import DecisionTreeClassifier"
   ]
  },
  {
   "cell_type": "code",
   "execution_count": null,
   "id": "243216f0",
   "metadata": {},
   "outputs": [],
   "source": [
    "tree_clf = DecisionTreeClassifier()"
   ]
  },
  {
   "cell_type": "code",
   "execution_count": null,
   "id": "b655ed1e",
   "metadata": {},
   "outputs": [],
   "source": [
    "tree_clf.fit(X_scaled,y_train)"
   ]
  },
  {
   "cell_type": "code",
   "execution_count": null,
   "id": "1d853cd0",
   "metadata": {},
   "outputs": [],
   "source": [
    "tree_prediction = tree_clf.predict(X_scaled)"
   ]
  },
  {
   "cell_type": "code",
   "execution_count": null,
   "id": "df0777a4",
   "metadata": {},
   "outputs": [],
   "source": [
    "print(classification_report(tree_prediction,y_train))"
   ]
  },
  {
   "cell_type": "code",
   "execution_count": null,
   "id": "b681903a",
   "metadata": {},
   "outputs": [],
   "source": [
    "tree_scores = cross_val_score(tree_clf,X_scaled,y_train,scoring='accuracy',cv=10)"
   ]
  },
  {
   "cell_type": "code",
   "execution_count": null,
   "id": "40e28184",
   "metadata": {},
   "outputs": [],
   "source": [
    "tree_scores"
   ]
  },
  {
   "cell_type": "code",
   "execution_count": null,
   "id": "22b5479b",
   "metadata": {},
   "outputs": [],
   "source": [
    "X_prepared = scaler.transform(X_test)"
   ]
  },
  {
   "cell_type": "code",
   "execution_count": null,
   "id": "64c0d00c",
   "metadata": {},
   "outputs": [],
   "source": [
    "y_test = label_encoder.transform(y_test)"
   ]
  },
  {
   "cell_type": "code",
   "execution_count": null,
   "id": "2f611a8f",
   "metadata": {},
   "outputs": [],
   "source": [
    "tree = knn_clf.predict(X_prepared)"
   ]
  },
  {
   "cell_type": "code",
   "execution_count": null,
   "id": "0a44b360",
   "metadata": {},
   "outputs": [],
   "source": [
    "print(classification_report(tree,y_test))"
   ]
  },
  {
   "cell_type": "code",
   "execution_count": null,
   "id": "6e0f7ba0",
   "metadata": {},
   "outputs": [],
   "source": [
    "accuracy_score(tree,y_test)"
   ]
  },
  {
   "cell_type": "code",
   "execution_count": null,
   "id": "65533fa9",
   "metadata": {},
   "outputs": [],
   "source": [
    "accuracy_score(rand_clf.predict(X_prepared),y_test)"
   ]
  },
  {
   "cell_type": "code",
   "execution_count": null,
   "id": "7b29de4d",
   "metadata": {},
   "outputs": [],
   "source": [
    "accuracy_score(knn_clf.predict(X_prepared),y_test)"
   ]
  },
  {
   "cell_type": "code",
   "execution_count": null,
   "id": "c1d1b984",
   "metadata": {},
   "outputs": [],
   "source": [
    "from sklearn.pipeline import Pipeline\n",
    "from sklearn.compose import ColumnTransformer\n",
    "from sklearn.preprocessing import Normalizer\n",
    "predictors_pipeline = Pipeline([\n",
    "    ('std_scaler',Normalizer()),\n",
    "    ('classifier',DecisionTreeClassifier())\n",
    "])\n",
    "predictors_pipeline.fit(X_train,y_train)"
   ]
  },
  {
   "cell_type": "code",
   "execution_count": null,
   "id": "810d8c30",
   "metadata": {},
   "outputs": [],
   "source": [
    "accuracy_score(predictors_pipeline.predict(X_test,),y_test)"
   ]
  },
  {
   "cell_type": "code",
   "execution_count": null,
   "id": "3139a9a3",
   "metadata": {},
   "outputs": [],
   "source": [
    "import joblib"
   ]
  },
  {
   "cell_type": "code",
   "execution_count": null,
   "id": "58489620",
   "metadata": {},
   "outputs": [],
   "source": [
    "saved_model = joblib.dump(predictors_pipeline,'iris_model.joblib')"
   ]
  },
  {
   "cell_type": "code",
   "execution_count": null,
   "id": "58e44fe0",
   "metadata": {},
   "outputs": [],
   "source": []
  },
  {
   "cell_type": "code",
   "execution_count": null,
   "id": "59405d8c",
   "metadata": {},
   "outputs": [],
   "source": []
  }
 ],
 "metadata": {
  "kernelspec": {
   "display_name": "Python 3 (ipykernel)",
   "language": "python",
   "name": "python3"
  },
  "language_info": {
   "codemirror_mode": {
    "name": "ipython",
    "version": 3
   },
   "file_extension": ".py",
   "mimetype": "text/x-python",
   "name": "python",
   "nbconvert_exporter": "python",
   "pygments_lexer": "ipython3",
   "version": "3.9.13"
  }
 },
 "nbformat": 4,
 "nbformat_minor": 5
}
